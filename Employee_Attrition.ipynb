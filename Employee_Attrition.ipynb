{
 "cells": [
  {
   "cell_type": "code",
   "execution_count": 99,
   "metadata": {},
   "outputs": [],
   "source": [
    "import pandas as pd\n",
    "import numpy as np\n",
    "\n",
    "df = pd.read_csv('train.csv')"
   ]
  },
  {
   "cell_type": "code",
   "execution_count": 100,
   "metadata": {},
   "outputs": [],
   "source": [
    "import matplotlib.pyplot as plt\n",
    "from sklearn.preprocessing import LabelEncoder, StandardScaler\n",
    "from sklearn.decomposition import PCA\n",
    "from sklearn.model_selection import train_test_split\n",
    "import warnings\n",
    "warnings.filterwarnings(\"ignore\")"
   ]
  },
  {
   "cell_type": "code",
   "execution_count": 101,
   "metadata": {},
   "outputs": [],
   "source": [
    "encoder = LabelEncoder()\n",
    "for col in ('BusinessTravel','Department','EducationField','Gender','JobRole','MaritalStatus','OverTime'):\n",
    "    df[col] = encoder.fit_transform(df[col])"
   ]
  },
  {
   "cell_type": "code",
   "execution_count": 83,
   "metadata": {},
   "outputs": [
    {
     "data": {
      "text/html": [
       "<div>\n",
       "<style scoped>\n",
       "    .dataframe tbody tr th:only-of-type {\n",
       "        vertical-align: middle;\n",
       "    }\n",
       "\n",
       "    .dataframe tbody tr th {\n",
       "        vertical-align: top;\n",
       "    }\n",
       "\n",
       "    .dataframe thead th {\n",
       "        text-align: right;\n",
       "    }\n",
       "</style>\n",
       "<table border=\"1\" class=\"dataframe\">\n",
       "  <thead>\n",
       "    <tr style=\"text-align: right;\">\n",
       "      <th></th>\n",
       "      <th>Age</th>\n",
       "      <th>BusinessTravel</th>\n",
       "      <th>DailyRate</th>\n",
       "      <th>Department</th>\n",
       "      <th>DistanceFromHome</th>\n",
       "      <th>Education</th>\n",
       "      <th>EducationField</th>\n",
       "      <th>EnvironmentSatisfaction</th>\n",
       "      <th>Gender</th>\n",
       "      <th>HourlyRate</th>\n",
       "      <th>...</th>\n",
       "      <th>StockOptionLevel</th>\n",
       "      <th>TotalWorkingYears</th>\n",
       "      <th>TrainingTimesLastYear</th>\n",
       "      <th>WorkLifeBalance</th>\n",
       "      <th>YearsAtCompany</th>\n",
       "      <th>YearsInCurrentRole</th>\n",
       "      <th>YearsSinceLastPromotion</th>\n",
       "      <th>YearsWithCurrManager</th>\n",
       "      <th>ID</th>\n",
       "      <th>Attrition</th>\n",
       "    </tr>\n",
       "  </thead>\n",
       "  <tbody>\n",
       "    <tr>\n",
       "      <td>0</td>\n",
       "      <td>41</td>\n",
       "      <td>2</td>\n",
       "      <td>1102</td>\n",
       "      <td>2</td>\n",
       "      <td>1</td>\n",
       "      <td>2</td>\n",
       "      <td>1</td>\n",
       "      <td>2</td>\n",
       "      <td>0</td>\n",
       "      <td>94</td>\n",
       "      <td>...</td>\n",
       "      <td>0</td>\n",
       "      <td>8</td>\n",
       "      <td>0</td>\n",
       "      <td>1</td>\n",
       "      <td>6</td>\n",
       "      <td>4</td>\n",
       "      <td>0</td>\n",
       "      <td>5</td>\n",
       "      <td>0</td>\n",
       "      <td>1</td>\n",
       "    </tr>\n",
       "    <tr>\n",
       "      <td>1</td>\n",
       "      <td>49</td>\n",
       "      <td>1</td>\n",
       "      <td>279</td>\n",
       "      <td>1</td>\n",
       "      <td>8</td>\n",
       "      <td>1</td>\n",
       "      <td>1</td>\n",
       "      <td>3</td>\n",
       "      <td>1</td>\n",
       "      <td>61</td>\n",
       "      <td>...</td>\n",
       "      <td>1</td>\n",
       "      <td>10</td>\n",
       "      <td>3</td>\n",
       "      <td>3</td>\n",
       "      <td>10</td>\n",
       "      <td>7</td>\n",
       "      <td>1</td>\n",
       "      <td>7</td>\n",
       "      <td>1</td>\n",
       "      <td>0</td>\n",
       "    </tr>\n",
       "    <tr>\n",
       "      <td>2</td>\n",
       "      <td>37</td>\n",
       "      <td>2</td>\n",
       "      <td>1373</td>\n",
       "      <td>1</td>\n",
       "      <td>2</td>\n",
       "      <td>2</td>\n",
       "      <td>4</td>\n",
       "      <td>4</td>\n",
       "      <td>1</td>\n",
       "      <td>92</td>\n",
       "      <td>...</td>\n",
       "      <td>0</td>\n",
       "      <td>7</td>\n",
       "      <td>3</td>\n",
       "      <td>3</td>\n",
       "      <td>0</td>\n",
       "      <td>0</td>\n",
       "      <td>0</td>\n",
       "      <td>0</td>\n",
       "      <td>2</td>\n",
       "      <td>1</td>\n",
       "    </tr>\n",
       "    <tr>\n",
       "      <td>3</td>\n",
       "      <td>33</td>\n",
       "      <td>1</td>\n",
       "      <td>1392</td>\n",
       "      <td>1</td>\n",
       "      <td>3</td>\n",
       "      <td>4</td>\n",
       "      <td>1</td>\n",
       "      <td>4</td>\n",
       "      <td>0</td>\n",
       "      <td>56</td>\n",
       "      <td>...</td>\n",
       "      <td>0</td>\n",
       "      <td>8</td>\n",
       "      <td>3</td>\n",
       "      <td>3</td>\n",
       "      <td>8</td>\n",
       "      <td>7</td>\n",
       "      <td>3</td>\n",
       "      <td>0</td>\n",
       "      <td>3</td>\n",
       "      <td>0</td>\n",
       "    </tr>\n",
       "    <tr>\n",
       "      <td>4</td>\n",
       "      <td>27</td>\n",
       "      <td>2</td>\n",
       "      <td>591</td>\n",
       "      <td>1</td>\n",
       "      <td>2</td>\n",
       "      <td>1</td>\n",
       "      <td>3</td>\n",
       "      <td>1</td>\n",
       "      <td>1</td>\n",
       "      <td>40</td>\n",
       "      <td>...</td>\n",
       "      <td>1</td>\n",
       "      <td>6</td>\n",
       "      <td>3</td>\n",
       "      <td>3</td>\n",
       "      <td>2</td>\n",
       "      <td>2</td>\n",
       "      <td>2</td>\n",
       "      <td>2</td>\n",
       "      <td>4</td>\n",
       "      <td>0</td>\n",
       "    </tr>\n",
       "  </tbody>\n",
       "</table>\n",
       "<p>5 rows × 32 columns</p>\n",
       "</div>"
      ],
      "text/plain": [
       "   Age  BusinessTravel  DailyRate  Department  DistanceFromHome  Education  \\\n",
       "0   41               2       1102           2                 1          2   \n",
       "1   49               1        279           1                 8          1   \n",
       "2   37               2       1373           1                 2          2   \n",
       "3   33               1       1392           1                 3          4   \n",
       "4   27               2        591           1                 2          1   \n",
       "\n",
       "   EducationField  EnvironmentSatisfaction  Gender  HourlyRate  ...  \\\n",
       "0               1                        2       0          94  ...   \n",
       "1               1                        3       1          61  ...   \n",
       "2               4                        4       1          92  ...   \n",
       "3               1                        4       0          56  ...   \n",
       "4               3                        1       1          40  ...   \n",
       "\n",
       "   StockOptionLevel  TotalWorkingYears  TrainingTimesLastYear  \\\n",
       "0                 0                  8                      0   \n",
       "1                 1                 10                      3   \n",
       "2                 0                  7                      3   \n",
       "3                 0                  8                      3   \n",
       "4                 1                  6                      3   \n",
       "\n",
       "   WorkLifeBalance  YearsAtCompany  YearsInCurrentRole  \\\n",
       "0                1               6                   4   \n",
       "1                3              10                   7   \n",
       "2                3               0                   0   \n",
       "3                3               8                   7   \n",
       "4                3               2                   2   \n",
       "\n",
       "   YearsSinceLastPromotion  YearsWithCurrManager  ID  Attrition  \n",
       "0                        0                     5   0          1  \n",
       "1                        1                     7   1          0  \n",
       "2                        0                     0   2          1  \n",
       "3                        3                     0   3          0  \n",
       "4                        2                     2   4          0  \n",
       "\n",
       "[5 rows x 32 columns]"
      ]
     },
     "execution_count": 83,
     "metadata": {},
     "output_type": "execute_result"
    }
   ],
   "source": [
    "attrition = df['Attrition']\n",
    "df_modified = df.drop(\"Attrition\", axis=1)\n",
    "df_modified = df_modified.drop(\"EmployeeNumber\", axis=1)\n",
    "df_modified = df_modified.drop(\"EmployeeCount\", axis=1)\n",
    "df_modified.insert(31, \"Attrition\", attrition , True) \n",
    "df_modified.head()"
   ]
  },
  {
   "cell_type": "code",
   "execution_count": 84,
   "metadata": {},
   "outputs": [],
   "source": [
    "all_features = df_modified.iloc[:,0:30].values\n",
    "attrition_label = df_modified.iloc[:, 31].values\n",
    "all_features_np = np.array(all_features)"
   ]
  },
  {
   "cell_type": "code",
   "execution_count": 85,
   "metadata": {},
   "outputs": [
    {
     "data": {
      "text/plain": [
       "array([[ 4.23845236e-01,  5.90511617e-01,  7.26192848e-01, ...,\n",
       "        -7.26498346e-02, -6.72389488e-01,  2.38153555e-01],\n",
       "       [ 1.27132961e+00, -9.23318663e-01, -1.29668704e+00, ...,\n",
       "         7.54110645e-01, -3.68156920e-01,  7.92676442e-01],\n",
       "       [ 1.03050142e-04,  5.90511617e-01,  1.39229303e+00, ...,\n",
       "        -1.17499714e+00, -6.72389488e-01, -1.14815366e+00],\n",
       "       ...,\n",
       "       [-1.37705905e+00,  5.90511617e-01,  1.64546026e+00, ...,\n",
       "        -7.26498346e-02, -6.72389488e-01, -3.16369332e-01],\n",
       "       [-5.29574682e-01,  5.90511617e-01, -5.05232210e-01, ...,\n",
       "        -3.48236661e-01, -6.72389488e-01, -3.16369332e-01],\n",
       "       [-3.17703589e-01,  5.90511617e-01, -9.96819060e-01, ...,\n",
       "        -7.26498346e-02, -6.72389488e-01, -5.93630776e-01]])"
      ]
     },
     "execution_count": 85,
     "metadata": {},
     "output_type": "execute_result"
    }
   ],
   "source": [
    "from sklearn import preprocessing\n",
    "\n",
    "scaler = preprocessing.StandardScaler()\n",
    "all_features_scaled = scaler.fit_transform(all_features_np)\n",
    "all_features_scaled"
   ]
  },
  {
   "cell_type": "code",
   "execution_count": 86,
   "metadata": {},
   "outputs": [
    {
     "data": {
      "image/png": "[encoded data removed]",
      "text/plain": [
       "<Figure size 576x432 with 1 Axes>"
      ]
     },
     "metadata": {
      "needs_background": "light"
     },
     "output_type": "display_data"
    }
   ],
   "source": [
    "pca = PCA()\n",
    "pca.fit_transform(all_features_scaled)\n",
    "pca_variance = pca.explained_variance_\n",
    "\n",
    "plt.figure(figsize=(8, 6))\n",
    "plt.bar(range(30), pca_variance, alpha=0.5, align='center', label='individual variance')\n",
    "plt.legend()\n",
    "plt.ylabel('Variance ratio')\n",
    "plt.xlabel('Principal components')\n",
    "plt.show()"
   ]
  },
  {
   "cell_type": "code",
   "execution_count": 102,
   "metadata": {},
   "outputs": [
    {
     "name": "stdout",
     "output_type": "stream",
     "text": [
      "[0.15768145 0.06239972 0.06066871 0.05702487 0.05216574 0.04024846\n",
      " 0.03966163 0.03835067 0.03731002 0.03558855 0.03525895 0.03395858\n",
      " 0.03374943 0.03262969 0.03199398 0.03018431 0.02872886 0.02813099\n",
      " 0.02742979 0.02655876 0.02480321 0.01789684 0.01738357 0.01094634\n",
      " 0.01033915 0.00908296 0.00748059 0.00655513 0.00438949]\n",
      "0.9986004665981867\n"
     ]
    }
   ],
   "source": [
    "pca1 = PCA(n_components=29, whiten=True).fit(all_features_scaled) # 24 pe best aaraha hai logistic regression ka cv score\n",
    "all_features_scaled_pca1 = pca1.transform(all_features_scaled)\n",
    "\n",
    "print(pca1.explained_variance_ratio_)\n",
    "print(sum(pca1.explained_variance_ratio_))"
   ]
  },
  {
   "cell_type": "code",
   "execution_count": 103,
   "metadata": {},
   "outputs": [],
   "source": [
    "#prepaaring test data\n",
    "\n",
    "df_test = pd.read_csv('test.csv')\n"
   ]
  },
  {
   "cell_type": "code",
   "execution_count": 104,
   "metadata": {},
   "outputs": [],
   "source": [
    "encoder = LabelEncoder()\n",
    "for col in ('BusinessTravel','Department','EducationField','Gender','JobRole','MaritalStatus','OverTime'):\n",
    "    df_test[col] = encoder.fit_transform(df_test[col])"
   ]
  },
  {
   "cell_type": "code",
   "execution_count": 105,
   "metadata": {},
   "outputs": [],
   "source": [
    "df_test = df_test.drop(\"EmployeeNumber\", axis=1)\n",
    "df_test = df_test.drop(\"EmployeeCount\", axis=1)"
   ]
  },
  {
   "cell_type": "code",
   "execution_count": 106,
   "metadata": {},
   "outputs": [],
   "source": [
    "test_features = df_test.iloc[:,0:30].values\n",
    "test_features_scaled = scaler.fit_transform(test_features)\n",
    "test_features_scaled_pca1 = pca1.transform(test_features_scaled)"
   ]
  },
  {
   "cell_type": "code",
   "execution_count": 107,
   "metadata": {},
   "outputs": [],
   "source": [
    "# # Logistic Regression\n",
    "# from sklearn.model_selection import cross_val_score\n",
    "# from sklearn.linear_model import LogisticRegression\n",
    "\n",
    "# clf = LogisticRegression()\n",
    "# cv_scores = cross_val_score(clf, all_features_scaled_pca1, attrition_label, cv=10)\n",
    "# cv_scores.mean()"
   ]
  },
  {
   "cell_type": "code",
   "execution_count": 108,
   "metadata": {},
   "outputs": [],
   "source": [
    "# clf.fit(all_features_scaled_pca1, attrition_label)\n",
    "\n",
    "# attrition_pred = clf.predict(test_features_scaled_pca1)"
   ]
  },
  {
   "cell_type": "code",
   "execution_count": 109,
   "metadata": {},
   "outputs": [],
   "source": [
    "# from numpy import savetxt\n",
    "# print(type(attrition_pred))\n",
    "\n",
    "# ID = df_test['ID']\n",
    "# print(type(ID))\n",
    "\n",
    "# out = np.column_stack((ID, attrition_pred))\n",
    "# print(out.dtype)\n",
    "# out = out.astype('int16')\n",
    "# print(out.dtype)\n",
    "# np.savetxt('16D110019Logistic.csv', out, delimiter=',', header='ID,Attrition', comments='')"
   ]
  },
  {
   "cell_type": "code",
   "execution_count": 115,
   "metadata": {},
   "outputs": [],
   "source": [
    "#SVM\n",
    "from sklearn import svm\n",
    "\n",
    "C = 1.0\n",
    "svc = svm.SVC(kernel='linear', C=C)"
   ]
  },
  {
   "cell_type": "code",
   "execution_count": 116,
   "metadata": {},
   "outputs": [
    {
     "data": {
      "text/plain": [
       "0.8598191143522383"
      ]
     },
     "execution_count": 116,
     "metadata": {},
     "output_type": "execute_result"
    }
   ],
   "source": [
    "cv_scores = cross_val_score(svc, all_features_scaled_pca1, attrition_label, cv=10)\n",
    "\n",
    "cv_scores.mean()"
   ]
  },
  {
   "cell_type": "code",
   "execution_count": 117,
   "metadata": {},
   "outputs": [],
   "source": [
    "svc.fit(all_features_scaled_pca1, attrition_label)\n",
    "\n",
    "attrition_pred = svc.predict(test_features_scaled_pca1)"
   ]
  },
  {
   "cell_type": "code",
   "execution_count": 118,
   "metadata": {},
   "outputs": [
    {
     "name": "stdout",
     "output_type": "stream",
     "text": [
      "<class 'numpy.ndarray'>\n",
      "<class 'pandas.core.series.Series'>\n",
      "int64\n",
      "int16\n"
     ]
    }
   ],
   "source": [
    "print(type(attrition_pred))\n",
    "\n",
    "ID = df_test['ID']\n",
    "print(type(ID))\n",
    "\n",
    "out = np.column_stack((ID, attrition_pred))\n",
    "print(out.dtype)\n",
    "out = out.astype('int16')\n",
    "print(out.dtype)\n",
    "np.savetxt('16D110019svm.csv', out, delimiter=',', header='ID,Attrition', comments='')"
   ]
  },
  {
   "cell_type": "code",
   "execution_count": 42,
   "metadata": {},
   "outputs": [
    {
     "data": {
      "text/plain": [
       "0.8326985312422204"
      ]
     },
     "execution_count": 42,
     "metadata": {},
     "output_type": "execute_result"
    }
   ],
   "source": [
    "# #Naive Bayes\n",
    "# from sklearn.naive_bayes import MultinomialNB\n",
    "\n",
    "# scaler = preprocessing.MinMaxScaler()\n",
    "# all_features_minmax = scaler.fit_transform(all_features)\n",
    "# test_features_minmax = scaler.fit_transform(test_features)\n",
    "# naiv = MultinomialNB()\n",
    "# cv_scores = cross_val_score(naiv, all_features_minmax, attrition, cv=10)\n",
    "\n",
    "# cv_scores.mean()"
   ]
  },
  {
   "cell_type": "code",
   "execution_count": 43,
   "metadata": {},
   "outputs": [],
   "source": [
    "# naiv.fit(all_features_minmax, attrition_label)\n",
    "\n",
    "# attrition_pred = naiv.predict(test_features_minmax)"
   ]
  },
  {
   "cell_type": "code",
   "execution_count": 44,
   "metadata": {},
   "outputs": [
    {
     "name": "stdout",
     "output_type": "stream",
     "text": [
      "<class 'numpy.ndarray'>\n",
      "<class 'pandas.core.series.Series'>\n",
      "int64\n",
      "int16\n"
     ]
    }
   ],
   "source": [
    "# print(type(attrition_pred))\n",
    "\n",
    "# ID = df_test['ID']\n",
    "# print(type(ID))\n",
    "\n",
    "# out = np.column_stack((ID, attrition_pred))\n",
    "# print(out.dtype)\n",
    "# out = out.astype('int16')\n",
    "# print(out.dtype)\n",
    "# np.savetxt('16D110019naive.csv', out, delimiter=',', header='ID,Attrition', comments='')"
   ]
  },
  {
   "cell_type": "code",
   "execution_count": 45,
   "metadata": {},
   "outputs": [
    {
     "data": {
      "text/plain": [
       "0.8569251636427536"
      ]
     },
     "execution_count": 45,
     "metadata": {},
     "output_type": "execute_result"
    }
   ],
   "source": [
    "# #K nearest Neighbours\n",
    "# from sklearn import neighbors\n",
    "\n",
    "# knn = neighbors.KNeighborsClassifier(n_neighbors=10)\n",
    "# cv_scores = cross_val_score(clf, all_features_scaled_pca1, attrition_label, cv=10)\n",
    "\n",
    "# cv_scores.mean()"
   ]
  },
  {
   "cell_type": "code",
   "execution_count": 46,
   "metadata": {},
   "outputs": [
    {
     "name": "stdout",
     "output_type": "stream",
     "text": [
      "1 0.774347991623834\n",
      "2 0.8326890128717656\n",
      "3 0.8171543001068986\n",
      "4 0.8395140505791561\n",
      "5 0.8307756373647293\n",
      "6 0.8414180907613231\n",
      "7 0.8375157419203678\n",
      "8 0.8355924819517051\n",
      "9 0.8336507343788897\n",
      "10 0.8356206709718987\n",
      "11 0.8298047635783214\n",
      "12 0.8326983481966348\n",
      "13 0.835639524667223\n",
      "14 0.8307470822533644\n",
      "15 0.8317274744102271\n",
      "16 0.8317274744102271\n",
      "17 0.8307470822533644\n",
      "18 0.8336694050286283\n",
      "19 0.834640278815036\n",
      "20 0.8336694050286283\n",
      "21 0.8336694050286283\n",
      "22 0.8326985312422204\n",
      "23 0.8326985312422204\n",
      "24 0.8326985312422204\n",
      "25 0.8336789233990831\n",
      "26 0.8326985312422204\n",
      "27 0.8336694050286283\n",
      "28 0.8336694050286283\n",
      "29 0.8336694050286283\n",
      "30 0.8336694050286283\n",
      "31 0.8336694050286283\n",
      "32 0.8336694050286283\n",
      "33 0.8336694050286283\n",
      "34 0.8326985312422204\n",
      "35 0.8336694050286283\n",
      "36 0.8336694050286283\n",
      "37 0.8336694050286283\n",
      "38 0.8326985312422204\n",
      "39 0.8336694050286283\n",
      "40 0.8326985312422204\n",
      "41 0.8336694050286283\n",
      "42 0.8326985312422204\n",
      "43 0.8336694050286283\n",
      "44 0.8326985312422204\n",
      "45 0.8326985312422204\n",
      "46 0.8326985312422204\n",
      "47 0.8326985312422204\n",
      "48 0.8326985312422204\n",
      "49 0.8326985312422204\n"
     ]
    }
   ],
   "source": [
    "# for n in range(1, 50):\n",
    "#     knn = neighbors.KNeighborsClassifier(n_neighbors=n)\n",
    "#     cv_scores = cross_val_score(knn, all_features_scaled_pca1, attrition_label, cv=10)\n",
    "#     print (n, cv_scores.mean())"
   ]
  },
  {
   "cell_type": "code",
   "execution_count": 47,
   "metadata": {},
   "outputs": [
    {
     "name": "stdout",
     "output_type": "stream",
     "text": [
      "<class 'numpy.ndarray'>\n",
      "<class 'pandas.core.series.Series'>\n",
      "int64\n",
      "int16\n"
     ]
    }
   ],
   "source": [
    "# knn.fit(all_features_scaled_pca1, attrition_label)\n",
    "\n",
    "# attrition_pred = knn.predict(test_features_scaled_pca1)\n",
    "# print(type(attrition_pred))\n",
    "\n",
    "# ID = df_test['ID']\n",
    "# print(type(ID))\n",
    "\n",
    "# out = np.column_stack((ID, attrition_pred))\n",
    "# print(out.dtype)\n",
    "# out = out.astype('int16')\n",
    "# print(out.dtype)\n",
    "# np.savetxt('16D110019knn.csv', out, delimiter=',', header='ID,Attrition', comments='')"
   ]
  },
  {
   "cell_type": "code",
   "execution_count": null,
   "metadata": {},
   "outputs": [],
   "source": []
  }
 ],
 "metadata": {
  "kernelspec": {
   "display_name": "Python 3",
   "language": "python",
   "name": "python3"
  },
  "language_info": {
   "codemirror_mode": {
    "name": "ipython",
    "version": 3
   },
   "file_extension": ".py",
   "mimetype": "text/x-python",
   "name": "python",
   "nbconvert_exporter": "python",
   "pygments_lexer": "ipython3",
   "version": "3.7.4"
  }
 },
 "nbformat": 4,
 "nbformat_minor": 2
}
